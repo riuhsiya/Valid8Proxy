{
  "nbformat": 4,
  "nbformat_minor": 0,
  "metadata": {
    "colab": {
      "provenance": [],
      "authorship_tag": "ABX9TyNWGdkkeCz7Tgck/N1+uMR1",
      "include_colab_link": true
    },
    "kernelspec": {
      "name": "python3",
      "display_name": "Python 3"
    },
    "language_info": {
      "name": "python"
    }
  },
  "cells": [
    {
      "cell_type": "markdown",
      "metadata": {
        "id": "view-in-github",
        "colab_type": "text"
      },
      "source": [
        "<a href=\"https://colab.research.google.com/github/riuhsiya/Valid8Proxy/blob/main/Untitled0.ipynb\" target=\"_parent\"><img src=\"https://colab.research.google.com/assets/colab-badge.svg\" alt=\"Open In Colab\"/></a>"
      ]
    },
    {
      "cell_type": "code",
      "execution_count": null,
      "metadata": {
        "id": "wE4eMBT7Nx0a"
      },
      "outputs": [],
      "source": [
        "!python -v"
      ]
    },
    {
      "cell_type": "code",
      "source": [
        "!python print(\"Hello Colab\")"
      ],
      "metadata": {
        "id": "WdjmSAjcQhek"
      },
      "execution_count": null,
      "outputs": []
    },
    {
      "cell_type": "code",
      "source": [
        "!git help -a"
      ],
      "metadata": {
        "id": "RLZ181kdQiBU"
      },
      "execution_count": null,
      "outputs": []
    }
  ]
}